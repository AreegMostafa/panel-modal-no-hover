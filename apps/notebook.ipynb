{
 "cells": [
  {
   "cell_type": "code",
   "execution_count": 13,
   "id": "03dc0caa-f733-4b6b-87e0-d1f1a1160982",
   "metadata": {},
   "outputs": [],
   "source": [
    "import warnings\n",
    "warnings.filterwarnings(\"ignore\")"
   ]
  },
  {
   "cell_type": "markdown",
   "id": "aaac1313-e203-4d79-82d1-a316671a2022",
   "metadata": {},
   "source": [
    "# Panel Modal\n",
    "\n",
    "A *modal* is an element that displays in front of and deactivates all other page content. Panel\n",
    "already includes a modal. But it only works if you using a *template* on a server. It does not\n",
    "work in the notebook.\n",
    "\n",
    "You can install and use the package as simple as.\n",
    "\n",
    "```bash\n",
    "pip install panel-modal\n",
    "```"
   ]
  },
  {
   "cell_type": "code",
   "execution_count": 16,
   "id": "e57edfe6-3fbe-484e-963d-d93efef0aa5f",
   "metadata": {},
   "outputs": [],
   "source": [
    "import panel as pn\n",
    "import hvplot.pandas  # noqa\n",
    "import pandas as pd\n",
    "\n",
    "from panel_modal import Modal\n",
    "\n",
    "pn.extension(sizing_mode=\"stretch_width\", template=\"fast\")"
   ]
  },
  {
   "cell_type": "markdown",
   "id": "72e383f8-b7fb-4beb-ba5e-08b0b7dcb915",
   "metadata": {},
   "source": [
    "Lets create some `content` to display a the `Modal`"
   ]
  },
  {
   "cell_type": "code",
   "execution_count": 20,
   "id": "30043f44-4b4f-4090-b329-86007a342711",
   "metadata": {},
   "outputs": [],
   "source": [
    "age_list = [8, 10, 12, 14, 72, 74, 76, 78, 20, 25, 30, 35, 60, 85]\n",
    "df = pd.DataFrame({\"gender\": list(\"MMMMMMMMFFFFFF\"), \"age\": age_list})\n",
    "plot = df.hvplot.box(y='age', by='gender', height=400, width=400, legend=False, ylim=(0, None))\n",
    "\n",
    "content = pn.Column(\n",
    "    \"## Hi. I'm a *modal*\", plot, sizing_mode=\"fixed\", width=600\n",
    ")"
   ]
  },
  {
   "cell_type": "markdown",
   "id": "9374fa8e-925b-456c-982a-3d872f8d8ba9",
   "metadata": {},
   "source": [
    "Lets create the `modal`"
   ]
  },
  {
   "cell_type": "code",
   "execution_count": 21,
   "id": "e15915df-cb6d-47d0-8513-463df5a847cc",
   "metadata": {},
   "outputs": [],
   "source": [
    "modal = Modal(object=content)"
   ]
  },
  {
   "cell_type": "markdown",
   "id": "f6a18d7e-c75a-4ddc-a6f4-4ebdb018bdfc",
   "metadata": {},
   "source": [
    "Let us create a `Column` *layout* containing and `open` button and the `modal`."
   ]
  },
  {
   "cell_type": "code",
   "execution_count": 12,
   "id": "a73ac3ea-95b7-4f8f-bbcb-89add4357f5a",
   "metadata": {},
   "outputs": [
    {
     "data": {},
     "metadata": {},
     "output_type": "display_data"
    },
    {
     "data": {},
     "metadata": {},
     "output_type": "display_data"
    },
    {
     "data": {
      "application/vnd.holoviews_exec.v0+json": "",
      "text/html": [
       "<div id='1979'>\n",
       "  <div class=\"bk-root\" id=\"7f4e0236-ba53-410c-9f75-a05dfe369456\" data-root-id=\"1979\"></div>\n",
       "</div>\n",
       "<script type=\"application/javascript\">(function(root) {\n",
       "  function embed_document(root) {\n",
       "    var docs_json = {\"9e2a222b-175d-4460-a8a7-6ca3df72eeaa\":{\"defs\":[{\"extends\":null,\"module\":null,\"name\":\"ReactiveHTML1\",\"overrides\":[],\"properties\":[]},{\"extends\":null,\"module\":null,\"name\":\"FlexBox1\",\"overrides\":[],\"properties\":[{\"default\":\"flex-start\",\"kind\":null,\"name\":\"align_content\"},{\"default\":\"flex-start\",\"kind\":null,\"name\":\"align_items\"},{\"default\":\"row\",\"kind\":null,\"name\":\"flex_direction\"},{\"default\":\"wrap\",\"kind\":null,\"name\":\"flex_wrap\"},{\"default\":\"flex-start\",\"kind\":null,\"name\":\"justify_content\"}]},{\"extends\":null,\"module\":null,\"name\":\"GridStack1\",\"overrides\":[],\"properties\":[{\"default\":\"warn\",\"kind\":null,\"name\":\"mode\"},{\"default\":null,\"kind\":null,\"name\":\"ncols\"},{\"default\":null,\"kind\":null,\"name\":\"nrows\"},{\"default\":true,\"kind\":null,\"name\":\"allow_resize\"},{\"default\":true,\"kind\":null,\"name\":\"allow_drag\"},{\"default\":[],\"kind\":null,\"name\":\"state\"}]},{\"extends\":null,\"module\":null,\"name\":\"click1\",\"overrides\":[],\"properties\":[{\"default\":\"\",\"kind\":null,\"name\":\"terminal_output\"},{\"default\":\"\",\"kind\":null,\"name\":\"debug_name\"},{\"default\":0,\"kind\":null,\"name\":\"clears\"}]},{\"extends\":null,\"module\":null,\"name\":\"NotificationAreaBase1\",\"overrides\":[],\"properties\":[{\"default\":\"bottom-right\",\"kind\":null,\"name\":\"position\"},{\"default\":0,\"kind\":null,\"name\":\"_clear\"}]},{\"extends\":null,\"module\":null,\"name\":\"NotificationArea1\",\"overrides\":[],\"properties\":[{\"default\":[],\"kind\":null,\"name\":\"notifications\"},{\"default\":\"bottom-right\",\"kind\":null,\"name\":\"position\"},{\"default\":0,\"kind\":null,\"name\":\"_clear\"},{\"default\":[{\"background\":\"#ffc107\",\"icon\":{\"className\":\"fas fa-exclamation-triangle\",\"color\":\"white\",\"tagName\":\"i\"},\"type\":\"warning\"},{\"background\":\"#007bff\",\"icon\":{\"className\":\"fas fa-info-circle\",\"color\":\"white\",\"tagName\":\"i\"},\"type\":\"info\"}],\"kind\":null,\"name\":\"types\"}]},{\"extends\":null,\"module\":null,\"name\":\"Notification\",\"overrides\":[],\"properties\":[{\"default\":null,\"kind\":null,\"name\":\"background\"},{\"default\":3000,\"kind\":null,\"name\":\"duration\"},{\"default\":null,\"kind\":null,\"name\":\"icon\"},{\"default\":\"\",\"kind\":null,\"name\":\"message\"},{\"default\":null,\"kind\":null,\"name\":\"notification_type\"},{\"default\":false,\"kind\":null,\"name\":\"_destroyed\"}]},{\"extends\":null,\"module\":null,\"name\":\"TemplateActions1\",\"overrides\":[],\"properties\":[{\"default\":0,\"kind\":null,\"name\":\"open_modal\"},{\"default\":0,\"kind\":null,\"name\":\"close_modal\"}]},{\"extends\":null,\"module\":null,\"name\":\"MaterialTemplateActions1\",\"overrides\":[],\"properties\":[{\"default\":0,\"kind\":null,\"name\":\"open_modal\"},{\"default\":0,\"kind\":null,\"name\":\"close_modal\"}]},{\"extends\":null,\"module\":null,\"name\":\"Modal1\",\"overrides\":[],\"properties\":[{\"default\":false,\"kind\":null,\"name\":\"open\"},{\"default\":false,\"kind\":null,\"name\":\"close\"},{\"default\":false,\"kind\":null,\"name\":\"is_open\"},{\"default\":true,\"kind\":null,\"name\":\"show_close_button\"},{\"default\":\"\\n.dialog-container,\\n.dialog-overlay {\\n  position: fixed;\\n  top: 0;\\n  right: 0;\\n  bottom: 0;\\n  left: 0;\\n}\\n.dialog-container {\\n  z-index: 100002;\\n  display: flex;\\n}\\n.dialog-container[aria-hidden='true'] {\\n  display: none;\\n}\\n.dialog-overlay {\\n  z-index: 100001;\\n  background-color: rgb(43 46 56 / 0.9);\\n}\\n.dialog-content {\\n  margin: auto;\\n  z-index: 100002;\\n  position: relative;\\n  background-color: white; \\n  border-radius: 2px;\\n  padding: 10px;\\n  padding-bottom: 20px;\\n}\\nfast-design-system-provider .dialog-content {\\n  background-color: var(--background-color);\\n  border-radius:  calc(var(--corner-radius) * 1px);\\n}\\n@keyframes fade-in {\\n  from {\\n    opacity: 0;\\n  }\\n}\\n@keyframes slide-up {\\n  from {\\n    transform: translateY(10%);\\n  }\\n}\\n.dialog-overlay {\\n  animation: fade-in 200ms both;\\n}\\n.dialog-content {\\n  animation: fade-in 400ms 200ms both, slide-up 400ms 200ms both;\\n}\\n@media (prefers-reduced-motion: reduce) {\\n  .dialog-overlay,\\n  .dialog-content {\\n    animation: none;\\n  }\\n}\\n.pnx-dialog-close {\\n  position: absolute;\\n  top: 0.5em;\\n  right: 0.5em;\\n  border: 0;\\n  padding: 0.25em;\\n  background-color: transparent;\\n  font-size: 1.5em;\\n  width: 1.5em;\\n  height: 1.5em;\\n  text-align: center;\\n  cursor: pointer;\\n  transition: 0.15s;\\n  border-radius: 50%;\\n  z-index: 10003;\\n}\\nfast-design-system-provider .pnx-dialog-close {\\n  color:  var(--neutral-foreground-rest);\\n}\\n.pnx-dialog-close:hover {\\n  background-color: rgb(50 50 0 / 0.15);;\\n}\\nfast-design-system-provider .pnx-dialog-close:hover {\\n  background-color: var(--neutral-fill-hover);\\n}\\n.lm-Widget.p-Widget.lm-TabBar.p-TabBar.lm-DockPanel-tabBar.jp-Activity {\\n  z-index: -1;\\n}\\n\",\"kind\":null,\"name\":\"style\"}]}],\"roots\":{\"references\":[{\"attributes\":{},\"id\":\"2092\",\"type\":\"UnionRenderers\"},{\"attributes\":{\"name\":\"Modal01113\"},\"id\":\"1981\",\"type\":\"Modal1\"},{\"attributes\":{\"coordinates\":null,\"data_source\":{\"id\":\"2047\"},\"glyph\":{\"id\":\"2049\"},\"group\":null,\"hover_glyph\":null,\"muted_glyph\":{\"id\":\"2051\"},\"nonselection_glyph\":{\"id\":\"2050\"},\"selection_glyph\":{\"id\":\"2054\"},\"view\":{\"id\":\"2053\"}},\"id\":\"2052\",\"type\":\"GlyphRenderer\"},{\"attributes\":{\"bottom\":{\"field\":\"bottom\"},\"fill_alpha\":{\"value\":1.0},\"fill_color\":{\"value\":\"#30a2da\"},\"hatch_alpha\":{\"value\":1.0},\"hatch_color\":{\"value\":\"black\"},\"hatch_scale\":{\"value\":12.0},\"hatch_weight\":{\"value\":1.0},\"line_alpha\":{\"value\":1.0},\"line_cap\":{\"value\":\"butt\"},\"line_color\":{\"value\":\"black\"},\"line_dash\":{\"value\":[]},\"line_dash_offset\":{\"value\":0},\"line_join\":{\"value\":\"bevel\"},\"line_width\":{\"value\":1},\"top\":{\"field\":\"top\"},\"width\":{\"value\":0.7},\"x\":{\"field\":\"index\"}},\"id\":\"2070\",\"type\":\"VBar\"},{\"attributes\":{},\"id\":\"2093\",\"type\":\"Selection\"},{\"attributes\":{\"tools\":[{\"id\":\"2003\"},{\"id\":\"2004\"},{\"id\":\"2005\"},{\"id\":\"2006\"},{\"id\":\"2007\"}]},\"id\":\"2009\",\"type\":\"Toolbar\"},{\"attributes\":{\"data\":{\"x0\":[[\"M\",-0.2],[\"F\",-0.2]],\"x1\":[[\"M\",0.2],[\"F\",0.2]],\"y0\":[8,20],\"y1\":[8,20]},\"selected\":{\"id\":\"2091\"},\"selection_policy\":{\"id\":\"2090\"}},\"id\":\"2039\",\"type\":\"ColumnDataSource\"},{\"attributes\":{},\"id\":\"2004\",\"type\":\"PanTool\"},{\"attributes\":{\"source\":{\"id\":\"2055\"}},\"id\":\"2061\",\"type\":\"CDSView\"},{\"attributes\":{},\"id\":\"2094\",\"type\":\"UnionRenderers\"},{\"attributes\":{\"below\":[{\"id\":\"1996\"}],\"center\":[{\"id\":\"1998\"},{\"id\":\"2002\"}],\"height\":400,\"left\":[{\"id\":\"1999\"}],\"margin\":[5,5,5,5],\"min_border_bottom\":10,\"min_border_left\":10,\"min_border_right\":10,\"min_border_top\":10,\"renderers\":[{\"id\":\"2020\"},{\"id\":\"2028\"},{\"id\":\"2036\"},{\"id\":\"2044\"},{\"id\":\"2052\"},{\"id\":\"2060\"},{\"id\":\"2068\"}],\"sizing_mode\":\"stretch_width\",\"title\":{\"id\":\"1988\"},\"toolbar\":{\"id\":\"2009\"},\"width\":400,\"x_range\":{\"id\":\"1985\"},\"x_scale\":{\"id\":\"1992\"},\"y_range\":{\"id\":\"1986\"},\"y_scale\":{\"id\":\"1994\"}},\"id\":\"1987\",\"subtype\":\"Figure\",\"type\":\"Plot\"},{\"attributes\":{},\"id\":\"2095\",\"type\":\"Selection\"},{\"attributes\":{\"source\":{\"id\":\"2023\"}},\"id\":\"2029\",\"type\":\"CDSView\"},{\"attributes\":{\"fill_alpha\":{\"value\":0.2},\"fill_color\":{\"value\":\"black\"},\"hatch_alpha\":{\"value\":0.2},\"line_alpha\":{\"value\":0.2},\"x\":{\"field\":\"index\"},\"y\":{\"field\":\"age\"}},\"id\":\"2019\",\"type\":\"Circle\"},{\"attributes\":{\"data\":{\"age\":{\"__ndarray__\":\"\",\"dtype\":\"float64\",\"order\":\"little\",\"shape\":[0]},\"index\":{\"__ndarray__\":\"\",\"dtype\":\"float64\",\"order\":\"little\",\"shape\":[0]}},\"selected\":{\"id\":\"2085\"},\"selection_policy\":{\"id\":\"2084\"}},\"id\":\"2015\",\"type\":\"ColumnDataSource\"},{\"attributes\":{\"axis\":{\"id\":\"1996\"},\"coordinates\":null,\"grid_line_color\":null,\"group\":null,\"ticker\":null},\"id\":\"1998\",\"type\":\"Grid\"},{\"attributes\":{\"x0\":{\"field\":\"x0\"},\"x1\":{\"field\":\"x1\"},\"y0\":{\"field\":\"y0\"},\"y1\":{\"field\":\"y1\"}},\"id\":\"2041\",\"type\":\"Segment\"},{\"attributes\":{\"coordinates\":null,\"group\":null,\"text_color\":\"black\",\"text_font_size\":\"12pt\"},\"id\":\"1988\",\"type\":\"Title\"},{\"attributes\":{},\"id\":\"2084\",\"type\":\"UnionRenderers\"},{\"attributes\":{\"bottom\":{\"field\":\"bottom\"},\"fill_alpha\":{\"value\":0.2},\"fill_color\":{\"value\":\"#30a2da\"},\"hatch_alpha\":{\"value\":0.2},\"line_alpha\":{\"value\":0.2},\"top\":{\"field\":\"top\"},\"width\":{\"value\":0.7},\"x\":{\"field\":\"index\"}},\"id\":\"2067\",\"type\":\"VBar\"},{\"attributes\":{},\"id\":\"1992\",\"type\":\"CategoricalScale\"},{\"attributes\":{\"line_alpha\":{\"value\":1.0},\"line_cap\":{\"value\":\"butt\"},\"line_color\":{\"value\":\"black\"},\"line_dash\":{\"value\":[]},\"line_dash_offset\":{\"value\":0},\"line_join\":{\"value\":\"bevel\"},\"line_width\":{\"value\":1},\"x0\":{\"field\":\"x0\"},\"x1\":{\"field\":\"x1\"},\"y0\":{\"field\":\"y0\"},\"y1\":{\"field\":\"y1\"}},\"id\":\"2038\",\"type\":\"Segment\"},{\"attributes\":{},\"id\":\"2076\",\"type\":\"AllLabels\"},{\"attributes\":{\"axis_label\":\"gender\",\"coordinates\":null,\"formatter\":{\"id\":\"2072\"},\"group\":null,\"major_label_policy\":{\"id\":\"2073\"},\"ticker\":{\"id\":\"1997\"}},\"id\":\"1996\",\"type\":\"CategoricalAxis\"},{\"attributes\":{\"data\":{\"bottom\":{\"__ndarray__\":\"AAAAAACARUAAAAAAAEBAQA==\",\"dtype\":\"float64\",\"order\":\"little\",\"shape\":[2]},\"index\":[\"M\",\"F\"],\"top\":{\"__ndarray__\":\"AAAAAAAAJ0AAAAAAAEA6QA==\",\"dtype\":\"float64\",\"order\":\"little\",\"shape\":[2]}},\"selected\":{\"id\":\"2097\"},\"selection_policy\":{\"id\":\"2096\"}},\"id\":\"2063\",\"type\":\"ColumnDataSource\"},{\"attributes\":{},\"id\":\"2085\",\"type\":\"Selection\"},{\"attributes\":{},\"id\":\"2075\",\"type\":\"BasicTickFormatter\"},{\"attributes\":{\"bottom\":{\"field\":\"bottom\"},\"fill_alpha\":{\"value\":1.0},\"fill_color\":{\"value\":\"#30a2da\"},\"hatch_alpha\":{\"value\":1.0},\"hatch_color\":{\"value\":\"black\"},\"hatch_scale\":{\"value\":12.0},\"hatch_weight\":{\"value\":1.0},\"line_alpha\":{\"value\":1.0},\"line_cap\":{\"value\":\"butt\"},\"line_color\":{\"value\":\"black\"},\"line_dash\":{\"value\":[]},\"line_dash_offset\":{\"value\":0},\"line_join\":{\"value\":\"bevel\"},\"line_width\":{\"value\":1},\"top\":{\"field\":\"top\"},\"width\":{\"value\":0.7},\"x\":{\"field\":\"index\"}},\"id\":\"2062\",\"type\":\"VBar\"},{\"attributes\":{\"bottom\":{\"field\":\"bottom\"},\"fill_color\":{\"value\":\"#30a2da\"},\"top\":{\"field\":\"top\"},\"width\":{\"value\":0.7},\"x\":{\"field\":\"index\"}},\"id\":\"2065\",\"type\":\"VBar\"},{\"attributes\":{},\"id\":\"1997\",\"type\":\"CategoricalTicker\"},{\"attributes\":{\"angle\":{\"value\":0.0},\"fill_alpha\":{\"value\":1.0},\"fill_color\":{\"value\":\"black\"},\"hatch_alpha\":{\"value\":1.0},\"hatch_color\":{\"value\":\"black\"},\"hatch_scale\":{\"value\":12.0},\"hatch_weight\":{\"value\":1.0},\"line_alpha\":{\"value\":1.0},\"line_cap\":{\"value\":\"butt\"},\"line_color\":{\"value\":\"black\"},\"line_dash\":{\"value\":[]},\"line_dash_offset\":{\"value\":0},\"line_join\":{\"value\":\"bevel\"},\"line_width\":{\"value\":1},\"size\":{\"value\":4},\"x\":{\"field\":\"index\"},\"y\":{\"field\":\"age\"}},\"id\":\"2022\",\"type\":\"Circle\"},{\"attributes\":{\"line_alpha\":{\"value\":0.1},\"x0\":{\"field\":\"x0\"},\"x1\":{\"field\":\"x1\"},\"y0\":{\"field\":\"y0\"},\"y1\":{\"field\":\"y1\"}},\"id\":\"2042\",\"type\":\"Segment\"},{\"attributes\":{\"source\":{\"id\":\"2063\"}},\"id\":\"2069\",\"type\":\"CDSView\"},{\"attributes\":{\"fill_alpha\":{\"value\":0.1},\"fill_color\":{\"value\":\"black\"},\"hatch_alpha\":{\"value\":0.1},\"line_alpha\":{\"value\":0.1},\"x\":{\"field\":\"index\"},\"y\":{\"field\":\"age\"}},\"id\":\"2018\",\"type\":\"Circle\"},{\"attributes\":{\"factors\":[\"M\",\"F\"],\"tags\":[[[\"gender\",\"gender\",null]]]},\"id\":\"1985\",\"type\":\"FactorRange\"},{\"attributes\":{\"axis_label\":\"age\",\"coordinates\":null,\"formatter\":{\"id\":\"2075\"},\"group\":null,\"major_label_policy\":{\"id\":\"2076\"},\"ticker\":{\"id\":\"2000\"}},\"id\":\"1999\",\"type\":\"LinearAxis\"},{\"attributes\":{\"source\":{\"id\":\"2039\"}},\"id\":\"2045\",\"type\":\"CDSView\"},{\"attributes\":{},\"id\":\"2005\",\"type\":\"WheelZoomTool\"},{\"attributes\":{\"labels\":[\"Is open\"],\"margin\":[5,10,5,10],\"sizing_mode\":\"stretch_width\"},\"id\":\"2099\",\"type\":\"CheckboxGroup\"},{\"attributes\":{},\"id\":\"2096\",\"type\":\"UnionRenderers\"},{\"attributes\":{\"axis\":{\"id\":\"1999\"},\"coordinates\":null,\"dimension\":1,\"grid_line_color\":null,\"group\":null,\"ticker\":null},\"id\":\"2002\",\"type\":\"Grid\"},{\"attributes\":{},\"id\":\"2097\",\"type\":\"Selection\"},{\"attributes\":{\"data\":{\"bottom\":{\"__ndarray__\":\"AAAAAACgUkAAAAAAAOBKQA==\",\"dtype\":\"float64\",\"order\":\"little\",\"shape\":[2]},\"index\":[\"M\",\"F\"],\"top\":{\"__ndarray__\":\"AAAAAACARUAAAAAAAEBAQA==\",\"dtype\":\"float64\",\"order\":\"little\",\"shape\":[2]}},\"selected\":{\"id\":\"2095\"},\"selection_policy\":{\"id\":\"2094\"}},\"id\":\"2055\",\"type\":\"ColumnDataSource\"},{\"attributes\":{},\"id\":\"2000\",\"type\":\"BasicTicker\"},{\"attributes\":{\"line_alpha\":{\"value\":0.2},\"x0\":{\"field\":\"x0\"},\"x1\":{\"field\":\"x1\"},\"y0\":{\"field\":\"y0\"},\"y1\":{\"field\":\"y1\"}},\"id\":\"2027\",\"type\":\"Segment\"},{\"attributes\":{\"x0\":{\"field\":\"x0\"},\"x1\":{\"field\":\"x1\"},\"y0\":{\"field\":\"y0\"},\"y1\":{\"field\":\"y1\"}},\"id\":\"2025\",\"type\":\"Segment\"},{\"attributes\":{\"line_alpha\":{\"value\":1.0},\"line_cap\":{\"value\":\"butt\"},\"line_color\":{\"value\":\"black\"},\"line_dash\":{\"value\":[]},\"line_dash_offset\":{\"value\":0},\"line_join\":{\"value\":\"bevel\"},\"line_width\":{\"value\":1},\"x0\":{\"field\":\"x0\"},\"x1\":{\"field\":\"x1\"},\"y0\":{\"field\":\"y0\"},\"y1\":{\"field\":\"y1\"}},\"id\":\"2046\",\"type\":\"Segment\"},{\"attributes\":{\"end\":92.7,\"reset_end\":92.7,\"reset_start\":0,\"tags\":[[[\"age\",\"age\",null]]]},\"id\":\"1986\",\"type\":\"Range1d\"},{\"attributes\":{\"bottom\":{\"field\":\"bottom\"},\"fill_color\":{\"value\":\"#30a2da\"},\"top\":{\"field\":\"top\"},\"width\":{\"value\":0.7},\"x\":{\"field\":\"index\"}},\"id\":\"2057\",\"type\":\"VBar\"},{\"attributes\":{},\"id\":\"2003\",\"type\":\"SaveTool\"},{\"attributes\":{\"coordinates\":null,\"data_source\":{\"id\":\"2063\"},\"glyph\":{\"id\":\"2065\"},\"group\":null,\"hover_glyph\":null,\"muted_glyph\":{\"id\":\"2067\"},\"nonselection_glyph\":{\"id\":\"2066\"},\"selection_glyph\":{\"id\":\"2070\"},\"view\":{\"id\":\"2069\"}},\"id\":\"2068\",\"type\":\"GlyphRenderer\"},{\"attributes\":{\"coordinates\":null,\"data_source\":{\"id\":\"2023\"},\"glyph\":{\"id\":\"2025\"},\"group\":null,\"hover_glyph\":null,\"muted_glyph\":{\"id\":\"2027\"},\"nonselection_glyph\":{\"id\":\"2026\"},\"selection_glyph\":{\"id\":\"2030\"},\"view\":{\"id\":\"2029\"}},\"id\":\"2028\",\"type\":\"GlyphRenderer\"},{\"attributes\":{\"overlay\":{\"id\":\"2008\"}},\"id\":\"2006\",\"type\":\"BoxZoomTool\"},{\"attributes\":{},\"id\":\"2007\",\"type\":\"ResetTool\"},{\"attributes\":{\"line_alpha\":{\"value\":0.2},\"x0\":{\"field\":\"x0\"},\"x1\":{\"field\":\"x1\"},\"y0\":{\"field\":\"y0\"},\"y1\":{\"field\":\"y1\"}},\"id\":\"2043\",\"type\":\"Segment\"},{\"attributes\":{\"reload\":false},\"id\":\"2234\",\"type\":\"panel.models.location.Location\"},{\"attributes\":{},\"id\":\"2086\",\"type\":\"UnionRenderers\"},{\"attributes\":{},\"id\":\"2089\",\"type\":\"Selection\"},{\"attributes\":{\"client_comm_id\":\"20e70366192641ff8ffca29333976b42\",\"comm_id\":\"e22cc44b9faf4003bb92276f1681313d\",\"plot_id\":\"1979\"},\"id\":\"2167\",\"type\":\"panel.models.comm_manager.CommManager\"},{\"attributes\":{\"bottom\":{\"field\":\"bottom\"},\"fill_alpha\":{\"value\":0.1},\"fill_color\":{\"value\":\"#30a2da\"},\"hatch_alpha\":{\"value\":0.1},\"line_alpha\":{\"value\":0.1},\"top\":{\"field\":\"top\"},\"width\":{\"value\":0.7},\"x\":{\"field\":\"index\"}},\"id\":\"2058\",\"type\":\"VBar\"},{\"attributes\":{\"coordinates\":null,\"data_source\":{\"id\":\"2055\"},\"glyph\":{\"id\":\"2057\"},\"group\":null,\"hover_glyph\":null,\"muted_glyph\":{\"id\":\"2059\"},\"nonselection_glyph\":{\"id\":\"2058\"},\"selection_glyph\":{\"id\":\"2062\"},\"view\":{\"id\":\"2061\"}},\"id\":\"2060\",\"type\":\"GlyphRenderer\"},{\"attributes\":{},\"id\":\"2087\",\"type\":\"Selection\"},{\"attributes\":{\"source\":{\"id\":\"2031\"}},\"id\":\"2037\",\"type\":\"CDSView\"},{\"attributes\":{\"x0\":{\"field\":\"x0\"},\"x1\":{\"field\":\"x1\"},\"y0\":{\"field\":\"y0\"},\"y1\":{\"field\":\"y1\"}},\"id\":\"2049\",\"type\":\"Segment\"},{\"attributes\":{\"bottom\":{\"field\":\"bottom\"},\"fill_alpha\":{\"value\":0.2},\"fill_color\":{\"value\":\"#30a2da\"},\"hatch_alpha\":{\"value\":0.2},\"line_alpha\":{\"value\":0.2},\"top\":{\"field\":\"top\"},\"width\":{\"value\":0.7},\"x\":{\"field\":\"index\"}},\"id\":\"2059\",\"type\":\"VBar\"},{\"attributes\":{\"coordinates\":null,\"data_source\":{\"id\":\"2015\"},\"glyph\":{\"id\":\"2017\"},\"group\":null,\"hover_glyph\":null,\"muted_glyph\":{\"id\":\"2019\"},\"nonselection_glyph\":{\"id\":\"2018\"},\"selection_glyph\":{\"id\":\"2022\"},\"view\":{\"id\":\"2021\"}},\"id\":\"2020\",\"type\":\"GlyphRenderer\"},{\"attributes\":{\"bottom\":{\"field\":\"bottom\"},\"fill_alpha\":{\"value\":0.1},\"fill_color\":{\"value\":\"#30a2da\"},\"hatch_alpha\":{\"value\":0.1},\"line_alpha\":{\"value\":0.1},\"top\":{\"field\":\"top\"},\"width\":{\"value\":0.7},\"x\":{\"field\":\"index\"}},\"id\":\"2066\",\"type\":\"VBar\"},{\"attributes\":{\"line_alpha\":{\"value\":0.1},\"x0\":{\"field\":\"x0\"},\"x1\":{\"field\":\"x1\"},\"y0\":{\"field\":\"y0\"},\"y1\":{\"field\":\"y1\"}},\"id\":\"2034\",\"type\":\"Segment\"},{\"attributes\":{\"children\":[{\"id\":\"1980\"},{\"id\":\"1982\"},{\"id\":\"2099\"},{\"id\":\"2100\"}],\"margin\":[0,0,0,0],\"name\":\"Column01234\",\"sizing_mode\":\"stretch_width\"},\"id\":\"1979\",\"type\":\"Column\"},{\"attributes\":{\"data\":{\"x0\":[[\"M\",-0.2],[\"F\",-0.2]],\"x1\":[[\"M\",0.2],[\"F\",0.2]],\"y0\":[78,85],\"y1\":[78,85]},\"selected\":{\"id\":\"2093\"},\"selection_policy\":{\"id\":\"2092\"}},\"id\":\"2047\",\"type\":\"ColumnDataSource\"},{\"attributes\":{\"x0\":{\"field\":\"x0\"},\"x1\":{\"field\":\"x1\"},\"y0\":{\"field\":\"y0\"},\"y1\":{\"field\":\"y1\"}},\"id\":\"2033\",\"type\":\"Segment\"},{\"attributes\":{},\"id\":\"2072\",\"type\":\"CategoricalTickFormatter\"},{\"attributes\":{\"bottom_units\":\"screen\",\"coordinates\":null,\"fill_alpha\":0.5,\"fill_color\":\"lightgrey\",\"group\":null,\"left_units\":\"screen\",\"level\":\"overlay\",\"line_alpha\":1.0,\"line_color\":\"black\",\"line_dash\":[4,4],\"line_width\":2,\"right_units\":\"screen\",\"syncable\":false,\"top_units\":\"screen\"},\"id\":\"2008\",\"type\":\"BoxAnnotation\"},{\"attributes\":{\"line_alpha\":{\"value\":0.2},\"x0\":{\"field\":\"x0\"},\"x1\":{\"field\":\"x1\"},\"y0\":{\"field\":\"y0\"},\"y1\":{\"field\":\"y1\"}},\"id\":\"2051\",\"type\":\"Segment\"},{\"attributes\":{},\"id\":\"2088\",\"type\":\"UnionRenderers\"},{\"attributes\":{\"line_alpha\":{\"value\":0.1},\"x0\":{\"field\":\"x0\"},\"x1\":{\"field\":\"x1\"},\"y0\":{\"field\":\"y0\"},\"y1\":{\"field\":\"y1\"}},\"id\":\"2026\",\"type\":\"Segment\"},{\"attributes\":{\"data\":{\"x0\":[\"M\",\"F\"],\"x1\":[\"M\",\"F\"],\"y0\":[78,85],\"y1\":{\"__ndarray__\":\"AAAAAACgUkAAAAAAAOBKQA==\",\"dtype\":\"float64\",\"order\":\"little\",\"shape\":[2]}},\"selected\":{\"id\":\"2087\"},\"selection_policy\":{\"id\":\"2086\"}},\"id\":\"2023\",\"type\":\"ColumnDataSource\"},{\"attributes\":{\"line_alpha\":{\"value\":1.0},\"line_cap\":{\"value\":\"butt\"},\"line_color\":{\"value\":\"black\"},\"line_dash\":{\"value\":[]},\"line_dash_offset\":{\"value\":0},\"line_join\":{\"value\":\"bevel\"},\"line_width\":{\"value\":1},\"x0\":{\"field\":\"x0\"},\"x1\":{\"field\":\"x1\"},\"y0\":{\"field\":\"y0\"},\"y1\":{\"field\":\"y1\"}},\"id\":\"2054\",\"type\":\"Segment\"},{\"attributes\":{\"data\":{\"x0\":[\"M\",\"F\"],\"x1\":[\"M\",\"F\"],\"y0\":[8,20],\"y1\":{\"__ndarray__\":\"AAAAAAAAJ0AAAAAAAEA6QA==\",\"dtype\":\"float64\",\"order\":\"little\",\"shape\":[2]}},\"selected\":{\"id\":\"2089\"},\"selection_policy\":{\"id\":\"2088\"}},\"id\":\"2031\",\"type\":\"ColumnDataSource\"},{\"attributes\":{\"source\":{\"id\":\"2047\"}},\"id\":\"2053\",\"type\":\"CDSView\"},{\"attributes\":{},\"id\":\"1994\",\"type\":\"LinearScale\"},{\"attributes\":{},\"id\":\"2090\",\"type\":\"UnionRenderers\"},{\"attributes\":{},\"id\":\"2073\",\"type\":\"AllLabels\"},{\"attributes\":{\"active\":[0],\"labels\":[\"Show close button\"],\"margin\":[5,10,5,10],\"sizing_mode\":\"stretch_width\"},\"id\":\"2100\",\"type\":\"CheckboxGroup\"},{\"attributes\":{\"source\":{\"id\":\"2015\"}},\"id\":\"2021\",\"type\":\"CDSView\"},{\"attributes\":{\"fill_color\":{\"value\":\"black\"},\"x\":{\"field\":\"index\"},\"y\":{\"field\":\"age\"}},\"id\":\"2017\",\"type\":\"Circle\"},{\"attributes\":{\"children\":[{\"id\":\"1984\"},{\"id\":\"1987\"}],\"margin\":[0,0,0,0],\"name\":\"Column01112\",\"sizing_mode\":\"fixed\",\"width\":600},\"id\":\"1983\",\"type\":\"Column\"},{\"attributes\":{},\"id\":\"2091\",\"type\":\"Selection\"},{\"attributes\":{\"coordinates\":null,\"data_source\":{\"id\":\"2039\"},\"glyph\":{\"id\":\"2041\"},\"group\":null,\"hover_glyph\":null,\"muted_glyph\":{\"id\":\"2043\"},\"nonselection_glyph\":{\"id\":\"2042\"},\"selection_glyph\":{\"id\":\"2046\"},\"view\":{\"id\":\"2045\"}},\"id\":\"2044\",\"type\":\"GlyphRenderer\"},{\"attributes\":{\"icon\":null,\"label\":\"Open\",\"margin\":[5,10,5,10],\"sizing_mode\":\"stretch_width\",\"subscribed_events\":[\"button_click\"]},\"id\":\"1980\",\"type\":\"Button\"},{\"attributes\":{\"line_alpha\":{\"value\":0.2},\"x0\":{\"field\":\"x0\"},\"x1\":{\"field\":\"x1\"},\"y0\":{\"field\":\"y0\"},\"y1\":{\"field\":\"y1\"}},\"id\":\"2035\",\"type\":\"Segment\"},{\"attributes\":{\"line_alpha\":{\"value\":1.0},\"line_cap\":{\"value\":\"butt\"},\"line_color\":{\"value\":\"black\"},\"line_dash\":{\"value\":[]},\"line_dash_offset\":{\"value\":0},\"line_join\":{\"value\":\"bevel\"},\"line_width\":{\"value\":1},\"x0\":{\"field\":\"x0\"},\"x1\":{\"field\":\"x1\"},\"y0\":{\"field\":\"y0\"},\"y1\":{\"field\":\"y1\"}},\"id\":\"2030\",\"type\":\"Segment\"},{\"attributes\":{\"children\":{\"pnx_dialog_content\":[{\"id\":\"1983\"}]},\"data\":{\"id\":\"1981\"},\"height\":0,\"html\":\"\\n&lt;style id=&quot;pnx_dialog_style-${id}&quot;&gt;\\n\\n.dialog-container,\\n.dialog-overlay {\\n  position: fixed;\\n  top: 0;\\n  right: 0;\\n  bottom: 0;\\n  left: 0;\\n}\\n.dialog-container {\\n  z-index: 100002;\\n  display: flex;\\n}\\n.dialog-container[aria-hidden=&#x27;true&#x27;] {\\n  display: none;\\n}\\n.dialog-overlay {\\n  z-index: 100001;\\n  background-color: rgb(43 46 56 / 0.9);\\n}\\n.dialog-content {\\n  margin: auto;\\n  z-index: 100002;\\n  position: relative;\\n  background-color: white; \\n  border-radius: 2px;\\n  padding: 10px;\\n  padding-bottom: 20px;\\n}\\nfast-design-system-provider .dialog-content {\\n  background-color: var(--background-color);\\n  border-radius:  calc(var(--corner-radius) * 1px);\\n}\\n@keyframes fade-in {\\n  from {\\n    opacity: 0;\\n  }\\n}\\n@keyframes slide-up {\\n  from {\\n    transform: translateY(10%);\\n  }\\n}\\n.dialog-overlay {\\n  animation: fade-in 200ms both;\\n}\\n.dialog-content {\\n  animation: fade-in 400ms 200ms both, slide-up 400ms 200ms both;\\n}\\n@media (prefers-reduced-motion: reduce) {\\n  .dialog-overlay,\\n  .dialog-content {\\n    animation: none;\\n  }\\n}\\n.pnx-dialog-close {\\n  position: absolute;\\n  top: 0.5em;\\n  right: 0.5em;\\n  border: 0;\\n  padding: 0.25em;\\n  background-color: transparent;\\n  font-size: 1.5em;\\n  width: 1.5em;\\n  height: 1.5em;\\n  text-align: center;\\n  cursor: pointer;\\n  transition: 0.15s;\\n  border-radius: 50%;\\n  z-index: 10003;\\n}\\nfast-design-system-provider .pnx-dialog-close {\\n  color:  var(--neutral-foreground-rest);\\n}\\n.pnx-dialog-close:hover {\\n  background-color: rgb(50 50 0 / 0.15);;\\n}\\nfast-design-system-provider .pnx-dialog-close:hover {\\n  background-color: var(--neutral-fill-hover);\\n}\\n.lm-Widget.p-Widget.lm-TabBar.p-TabBar.lm-DockPanel-tabBar.jp-Activity {\\n  z-index: -1;\\n}\\n\\n&lt;/style&gt;\\n&lt;div id=&quot;pnx_dialog-${id}&quot; class=&quot;dialog-container bk-root&quot; aria-hidden=&quot;true&quot;&gt;\\n&lt;div class=&quot;dialog-overlay&quot; data-a11y-dialog-hide&gt;&lt;/div&gt;\\n  &lt;div id=&quot;pnx_dialog_content-${id}&quot; class=&quot;dialog-content&quot; role=&quot;document&quot;&gt;\\n    &lt;button id=&quot;pnx_dialog_close-${id}&quot; data-a11y-dialog-hide class=&quot;pnx-dialog-close&quot; aria-label=&quot;Close this dialog window&quot;&gt;\\n      &lt;svg class=&quot;svg-icon&quot; viewBox=&quot;0 0 20 20&quot;&gt;\\n        &lt;path\\n          fill=&quot;currentcolor&quot;\\n          d=&quot;M15.898,4.045c-0.271-0.272-0.713-0.272-0.986,0l-4.71,4.711L5.493,4.045c-0.272-0.272-0.714-0.272-0.986,0s-0.272,0.714,0,0.986l4.709,4.711l-4.71,4.711c-0.272,0.271-0.272,0.713,0,0.986c0.136,0.136,0.314,0.203,0.492,0.203c0.179,0,0.357-0.067,0.493-0.203l4.711-4.711l4.71,4.711c0.137,0.136,0.314,0.203,0.494,0.203c0.178,0,0.355-0.067,0.492-0.203c0.273-0.273,0.273-0.715,0-0.986l-4.711-4.711l4.711-4.711C16.172,4.759,16.172,4.317,15.898,4.045z&quot;\\n        &gt;&lt;/path&gt;\\n      &lt;/svg&gt;\\n    &lt;/button&gt;\\n\\n  &lt;/div&gt;\\n&lt;/div&gt;\",\"margin\":[0,0,0,0],\"nodes\":[\"pnx_dialog_style\",\"pnx_dialog\",\"pnx_dialog_content\",\"pnx_dialog_close\"],\"scripts\":{\"is_open\":[\"if (data.is_open==true){state.modal.show()} else {state.modal.hide()}\"],\"render\":[\"state.modal = new A11yDialog(pnx_dialog)\\nstate.modal.on(&#x27;show&#x27;, function (element, event) {data.is_open=true})\\nstate.modal.on(&#x27;hide&#x27;, function (element, event) {data.is_open=false})\\nfast_el = document.getElementById(&quot;body-design-provider&quot;)\\nif (fast_el!==null){\\n  fast_el.appendChild(pnx_dialog)\\n}\\nself.show_close_button()\"],\"show_close_button\":[\"if (data.show_close_button){pnx_dialog_close.style.display = &quot; block&quot;}else{pnx_dialog_close.style.display = &quot;none&quot;}\"]},\"sizing_mode\":\"fixed\",\"subscribed_events\":[\"dom_event\"],\"width\":0},\"id\":\"1982\",\"type\":\"panel.models.reactive_html.ReactiveHTML\"},{\"attributes\":{\"css_classes\":[\"markdown\"],\"margin\":[5,5,5,5],\"name\":\"Markdown01105\",\"sizing_mode\":\"stretch_width\",\"text\":\"&lt;h2&gt;Hi. I&amp;rsquo;m a &lt;em&gt;modal&lt;/em&gt;&lt;/h2&gt;\"},\"id\":\"1984\",\"type\":\"panel.models.markup.HTML\"},{\"attributes\":{\"line_alpha\":{\"value\":0.1},\"x0\":{\"field\":\"x0\"},\"x1\":{\"field\":\"x1\"},\"y0\":{\"field\":\"y0\"},\"y1\":{\"field\":\"y1\"}},\"id\":\"2050\",\"type\":\"Segment\"},{\"attributes\":{\"coordinates\":null,\"data_source\":{\"id\":\"2031\"},\"glyph\":{\"id\":\"2033\"},\"group\":null,\"hover_glyph\":null,\"muted_glyph\":{\"id\":\"2035\"},\"nonselection_glyph\":{\"id\":\"2034\"},\"selection_glyph\":{\"id\":\"2038\"},\"view\":{\"id\":\"2037\"}},\"id\":\"2036\",\"type\":\"GlyphRenderer\"}],\"root_ids\":[\"1979\",\"2167\",\"2234\"]},\"title\":\"Bokeh Application\",\"version\":\"2.4.3\"}};\n",
       "    var render_items = [{\"docid\":\"9e2a222b-175d-4460-a8a7-6ca3df72eeaa\",\"root_ids\":[\"1979\"],\"roots\":{\"1979\":\"7f4e0236-ba53-410c-9f75-a05dfe369456\"}}];\n",
       "    root.Bokeh.embed.embed_items_notebook(docs_json, render_items);\n",
       "  }\n",
       "  if (root.Bokeh !== undefined && root.Bokeh.Panel !== undefined) {\n",
       "    embed_document(root);\n",
       "  } else {\n",
       "    var attempts = 0;\n",
       "    var timer = setInterval(function(root) {\n",
       "      if (root.Bokeh !== undefined && root.Bokeh.Panel !== undefined) {\n",
       "        clearInterval(timer);\n",
       "        embed_document(root);\n",
       "      } else if (document.readyState == \"complete\") {\n",
       "        attempts++;\n",
       "        if (attempts > 200) {\n",
       "          clearInterval(timer);\n",
       "          console.log(\"Bokeh: ERROR: Unable to run BokehJS code because BokehJS library is missing\");\n",
       "        }\n",
       "      }\n",
       "    }, 25, root)\n",
       "  }\n",
       "})(window);</script>"
      ],
      "text/plain": [
       "Column(sizing_mode='stretch_width')\n",
       "    [0] Button(name='Open', sizing_mode='stretch_width')\n",
       "    [1] Modal(height=0, margin=0, object=Column, sizing_mode='fixed', width=0)\n",
       "    [2] Checkbox(name='Is open', sizing_mode='stretch_width')\n",
       "    [3] Checkbox(name='Show close button', sizing_mode='stretch_width', value=True)"
      ]
     },
     "execution_count": 12,
     "metadata": {
      "application/vnd.holoviews_exec.v0+json": {
       "id": "1979"
      }
     },
     "output_type": "execute_result"
    }
   ],
   "source": [
    "pn.Column(modal.param.open, modal, modal.param.is_open, modal.param.show_close_button).servable()"
   ]
  },
  {
   "cell_type": "markdown",
   "id": "2d88b363-c894-475c-a1eb-eecfdef74b2b",
   "metadata": {},
   "source": [
    "Try clicking the *Open* button."
   ]
  }
 ],
 "metadata": {
  "kernelspec": {
   "display_name": "Python [conda env:root] *",
   "language": "python",
   "name": "conda-root-py"
  },
  "language_info": {
   "codemirror_mode": {
    "name": "ipython",
    "version": 3
   },
   "file_extension": ".py",
   "mimetype": "text/x-python",
   "name": "python",
   "nbconvert_exporter": "python",
   "pygments_lexer": "ipython3",
   "version": "3.10.6"
  }
 },
 "nbformat": 4,
 "nbformat_minor": 5
}
