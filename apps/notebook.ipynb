{
 "cells": [
  {
   "cell_type": "markdown",
   "id": "aaac1313-e203-4d79-82d1-a316671a2022",
   "metadata": {},
   "source": [
    "# Panel Modal\n",
    "\n",
    "A *modal* is an element that displays in front of and deactivates all other page content. Panel\n",
    "already includes a modal. But it only works if you using a *template* on a server. It does not\n",
    "work in the notebook.\n",
    "\n",
    "You can install and use the package as simple as.\n",
    "\n",
    "```bash\n",
    "pip install panel-modal\n",
    "```"
   ]
  },
  {
   "cell_type": "code",
   "execution_count": null,
   "id": "e57edfe6-3fbe-484e-963d-d93efef0aa5f",
   "metadata": {},
   "outputs": [],
   "source": [
    "import panel as pn\n",
    "import hvplot.pandas  # noqa\n",
    "import pandas as pd\n",
    "\n",
    "from panel_modal import Modal\n",
    "\n",
    "pn.extension(\"modal\", sizing_mode=\"stretch_width\")"
   ]
  },
  {
   "cell_type": "markdown",
   "id": "72e383f8-b7fb-4beb-ba5e-08b0b7dcb915",
   "metadata": {},
   "source": [
    "Lets create some `content` to display a the `Modal`"
   ]
  },
  {
   "cell_type": "code",
   "execution_count": null,
   "id": "30043f44-4b4f-4090-b329-86007a342711",
   "metadata": {},
   "outputs": [],
   "source": [
    "age_list = [8, 10, 12, 14, 72, 74, 76, 78, 20, 25, 30, 35, 60, 85]\n",
    "df = pd.DataFrame({\"gender\": list(\"MMMMMMMMFFFFFF\"), \"age\": age_list})\n",
    "plot = df.hvplot.box(y='age', by='gender', height=400, width=400, legend=False, ylim=(0, None))\n",
    "\n",
    "content = pn.Column(\n",
    "    \"## Hi. I'm a *modal*\", plot, \"allo\", sizing_mode=\"fixed\", width=600\n",
    ")"
   ]
  },
  {
   "cell_type": "markdown",
   "id": "9374fa8e-925b-456c-982a-3d872f8d8ba9",
   "metadata": {},
   "source": [
    "Lets create the `modal`"
   ]
  },
  {
   "cell_type": "code",
   "execution_count": null,
   "id": "e15915df-cb6d-47d0-8513-463df5a847cc",
   "metadata": {},
   "outputs": [],
   "source": [
    "modal = Modal(content)"
   ]
  },
  {
   "cell_type": "markdown",
   "id": "f6a18d7e-c75a-4ddc-a6f4-4ebdb018bdfc",
   "metadata": {},
   "source": [
    "Let us create a `Column` *layout* containing and `open` button and the `modal`."
   ]
  },
  {
   "cell_type": "code",
   "execution_count": null,
   "id": "426d2a11-71d6-4fbd-b0c9-737c5ee4614e",
   "metadata": {},
   "outputs": [],
   "source": [
    "pn.Column(modal.param.open, modal, modal.param.is_open, modal.param.show_close_button).servable()"
   ]
  },
  {
   "cell_type": "markdown",
   "id": "afe4fdeb-6de6-4961-82ce-e7cf6e9671a5",
   "metadata": {},
   "source": [
    "Try clicking the *Open* button."
   ]
  }
 ],
 "metadata": {
  "kernelspec": {
   "display_name": "Python [conda env:root] *",
   "language": "python",
   "name": "conda-root-py"
  },
  "language_info": {
   "codemirror_mode": {
    "name": "ipython",
    "version": 3
   },
   "file_extension": ".py",
   "mimetype": "text/x-python",
   "name": "python",
   "nbconvert_exporter": "python",
   "pygments_lexer": "ipython3",
   "version": "3.11.6"
  }
 },
 "nbformat": 4,
 "nbformat_minor": 5
}
